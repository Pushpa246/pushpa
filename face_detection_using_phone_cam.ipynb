{
 "cells": [
  {
   "cell_type": "code",
   "execution_count": 6,
   "metadata": {},
   "outputs": [
    {
     "name": "stdout",
     "output_type": "stream",
     "text": [
      "number of heads(s)= 1\n",
      "number of heads(s)= 2\n",
      "number of heads(s)= 3\n",
      "number of heads(s)= 4\n",
      "number of heads(s)= 5\n",
      "number of heads(s)= 6\n",
      "number of heads(s)= 7\n",
      "number of heads(s)= 8\n",
      "number of heads(s)= 9\n",
      "number of heads(s)= 10\n"
     ]
    }
   ],
   "source": [
    "\n",
    "import cv2\n",
    "import urllib\n",
    "import urllib.request\n",
    "import numpy as np\n",
    "cascadePath = \"C:\\\\Users\\\\PUSHPA\\Desktop\\\\face_emtion_detection\\\\haarcascade_frontalface_default.xml\"\n",
    "faceCascade = cv2.CascadeClassifier(cascadePath);\n",
    "\n",
    "font = cv2.FONT_HERSHEY_SIMPLEX\n",
    "count=0\n",
    "\n",
    "while True:\n",
    "    # Read the video frame\n",
    "    url=\"http://192.168.43.58:8080/shot.jpg\"\n",
    "    im_rs=urllib.request.urlopen(url)\n",
    "    im_np=np.array(bytearray(im_rs.read()),dtype=np.uint8)\n",
    "    img=cv2.imdecode(im_np,-1)\n",
    "    \n",
    "\n",
    "    # Convert the captured frame into grayscale\n",
    "    gray = cv2.cvtColor(img,cv2.COLOR_BGR2GRAY)\n",
    "\n",
    "    # Get all face from the video frame\n",
    "    faces = faceCascade.detectMultiScale(gray, 1.2,5)\n",
    "\n",
    "    # For each face in faces\n",
    "    for(x,y,w,h) in faces:\n",
    "        # Crop the image frame into rectangle\n",
    "        cv2.rectangle(img, (x,y), (x+w,y+h), (255,0,0), 2)\n",
    "        # Increment sample face image\n",
    "        count +=1\n",
    "        cv2.imwrite(\"C:\\\\Users\\\\PUSHPA\\Desktop\\\\face_emtion_detection\\\\dataset\\\\\"  + str(count) + \".jpg\", gray[y:y+h,x:x+w])\n",
    "\n",
    "        cv2.imshow('img',img)\n",
    "        \n",
    "        print (\"number of heads(s)= \" + str(count))\n",
    "    # If 'q' is pressed, close program\n",
    "    if cv2.waitKey(10) & 0xFF == ord('q'):\n",
    "        break\n",
    "    # If image taken reach 10, stop taking video\n",
    "    elif count>=10:\n",
    "        break\n",
    "\n"
   ]
  },
  {
   "cell_type": "code",
   "execution_count": null,
   "metadata": {},
   "outputs": [],
   "source": []
  }
 ],
 "metadata": {
  "kernelspec": {
   "display_name": "Python 3",
   "language": "python",
   "name": "python3"
  },
  "language_info": {
   "codemirror_mode": {
    "name": "ipython",
    "version": 3
   },
   "file_extension": ".py",
   "mimetype": "text/x-python",
   "name": "python",
   "nbconvert_exporter": "python",
   "pygments_lexer": "ipython3",
   "version": "3.7.4"
  }
 },
 "nbformat": 4,
 "nbformat_minor": 2
}
